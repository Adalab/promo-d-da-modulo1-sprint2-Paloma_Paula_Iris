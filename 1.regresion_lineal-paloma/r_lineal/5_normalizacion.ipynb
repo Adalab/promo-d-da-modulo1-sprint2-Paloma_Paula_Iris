{
 "cells": [
  {
   "attachments": {},
   "cell_type": "markdown",
   "metadata": {},
   "source": [
    "## Normalización"
   ]
  },
  {
   "attachments": {},
   "cell_type": "markdown",
   "metadata": {},
   "source": [
    "En vuestro dataset habréis identificado unas variables predictoras y una variable respuesta. Los objetivos del pair programming de hoy son:"
   ]
  },
  {
   "cell_type": "code",
   "execution_count": 1,
   "metadata": {},
   "outputs": [],
   "source": [
    "import pandas as pd\n",
    "import numpy as np\n",
    "\n",
    "import seaborn as sns\n",
    "import matplotlib.pyplot as plt\n",
    "\n",
    "from scipy import stats\n",
    "import math \n",
    "from sklearn.preprocessing import MinMaxScaler\n",
    "\n",
    "import warnings\n",
    "warnings.filterwarnings('ignore')\n",
    "\n",
    "plt.rcParams[\"figure.figsize\"] = (15,15) \n",
    "pd.options.display.max_columns = None \n",
    "\n",
    "import sys\n",
    "sys.path.append(\"../../\")\n",
    "from src import funciones as fun\n",
    "from src import variables as var"
   ]
  },
  {
   "cell_type": "code",
   "execution_count": 2,
   "metadata": {},
   "outputs": [],
   "source": [
    "df = pd.read_pickle('../archivos/coste_vida_limpio.pkl')"
   ]
  },
  {
   "cell_type": "code",
   "execution_count": 3,
   "metadata": {},
   "outputs": [
    {
     "data": {
      "text/html": [
       "<div>\n",
       "<style scoped>\n",
       "    .dataframe tbody tr th:only-of-type {\n",
       "        vertical-align: middle;\n",
       "    }\n",
       "\n",
       "    .dataframe tbody tr th {\n",
       "        vertical-align: top;\n",
       "    }\n",
       "\n",
       "    .dataframe thead th {\n",
       "        text-align: right;\n",
       "    }\n",
       "</style>\n",
       "<table border=\"1\" class=\"dataframe\">\n",
       "  <thead>\n",
       "    <tr style=\"text-align: right;\">\n",
       "      <th></th>\n",
       "      <th>country</th>\n",
       "      <th>mcdonalds</th>\n",
       "      <th>cappuccino</th>\n",
       "      <th>milk</th>\n",
       "      <th>rice</th>\n",
       "      <th>eggs</th>\n",
       "      <th>chicken</th>\n",
       "      <th>beef</th>\n",
       "      <th>banana</th>\n",
       "      <th>water</th>\n",
       "      <th>wine</th>\n",
       "      <th>beer</th>\n",
       "      <th>cigarettes_marlboro</th>\n",
       "      <th>public_transport_ticket</th>\n",
       "      <th>taxi</th>\n",
       "      <th>gasoline</th>\n",
       "      <th>basic</th>\n",
       "      <th>internet</th>\n",
       "      <th>gym_monthly</th>\n",
       "      <th>cinema</th>\n",
       "      <th>preschool</th>\n",
       "      <th>primary_school</th>\n",
       "      <th>apt_3beds_outcentre</th>\n",
       "      <th>monthly_salary</th>\n",
       "    </tr>\n",
       "  </thead>\n",
       "  <tbody>\n",
       "    <tr>\n",
       "      <th>0</th>\n",
       "      <td>South Korea</td>\n",
       "      <td>6.15</td>\n",
       "      <td>3.93</td>\n",
       "      <td>2.20</td>\n",
       "      <td>3.53</td>\n",
       "      <td>4.04</td>\n",
       "      <td>10.58</td>\n",
       "      <td>41.61</td>\n",
       "      <td>3.71</td>\n",
       "      <td>1.05</td>\n",
       "      <td>15.36</td>\n",
       "      <td>2.12</td>\n",
       "      <td>3.46</td>\n",
       "      <td>1.00</td>\n",
       "      <td>0.92</td>\n",
       "      <td>1.43</td>\n",
       "      <td>182.13</td>\n",
       "      <td>22.48</td>\n",
       "      <td>55.88</td>\n",
       "      <td>9.60</td>\n",
       "      <td>404.15</td>\n",
       "      <td>17902.55</td>\n",
       "      <td>1731.08</td>\n",
       "      <td>2689.62</td>\n",
       "    </tr>\n",
       "    <tr>\n",
       "      <th>1</th>\n",
       "      <td>China</td>\n",
       "      <td>5.69</td>\n",
       "      <td>3.98</td>\n",
       "      <td>2.74</td>\n",
       "      <td>1.22</td>\n",
       "      <td>2.22</td>\n",
       "      <td>4.86</td>\n",
       "      <td>13.12</td>\n",
       "      <td>1.60</td>\n",
       "      <td>0.64</td>\n",
       "      <td>14.24</td>\n",
       "      <td>0.94</td>\n",
       "      <td>3.56</td>\n",
       "      <td>0.57</td>\n",
       "      <td>0.43</td>\n",
       "      <td>1.20</td>\n",
       "      <td>66.00</td>\n",
       "      <td>17.07</td>\n",
       "      <td>63.49</td>\n",
       "      <td>8.54</td>\n",
       "      <td>1382.62</td>\n",
       "      <td>26379.45</td>\n",
       "      <td>1561.59</td>\n",
       "      <td>1419.87</td>\n",
       "    </tr>\n",
       "  </tbody>\n",
       "</table>\n",
       "</div>"
      ],
      "text/plain": [
       "       country  mcdonalds  cappuccino  milk  rice  eggs  chicken   beef   \n",
       "0  South Korea       6.15        3.93  2.20  3.53  4.04    10.58  41.61  \\\n",
       "1        China       5.69        3.98  2.74  1.22  2.22     4.86  13.12   \n",
       "\n",
       "   banana  water   wine  beer  cigarettes_marlboro  public_transport_ticket   \n",
       "0    3.71   1.05  15.36  2.12                 3.46                     1.00  \\\n",
       "1    1.60   0.64  14.24  0.94                 3.56                     0.57   \n",
       "\n",
       "   taxi  gasoline   basic  internet  gym_monthly  cinema  preschool   \n",
       "0  0.92      1.43  182.13     22.48        55.88    9.60     404.15  \\\n",
       "1  0.43      1.20   66.00     17.07        63.49    8.54    1382.62   \n",
       "\n",
       "   primary_school  apt_3beds_outcentre  monthly_salary  \n",
       "0        17902.55              1731.08         2689.62  \n",
       "1        26379.45              1561.59         1419.87  "
      ]
     },
     "execution_count": 3,
     "metadata": {},
     "output_type": "execute_result"
    }
   ],
   "source": [
    "df.head(2)"
   ]
  },
  {
   "attachments": {},
   "cell_type": "markdown",
   "metadata": {},
   "source": [
    "1- Sobre la variable respuesta, en pair programmings anterior identificastéis si seguía una distribución normal o no. En caso de que no siguiera una distribución normal, normalizarla. Podéis usar el método que prefiráis o el que mejor se ajuste"
   ]
  },
  {
   "cell_type": "code",
   "execution_count": 5,
   "metadata": {},
   "outputs": [
    {
     "data": {
      "image/png": "[encoded data removed]",
      "text/plain": [
       "<Figure size 432x288 with 1 Axes>"
      ]
     },
     "metadata": {
      "needs_background": "light"
     },
     "output_type": "display_data"
    }
   ],
   "source": [
    "sns.histplot(df['basic'], kde=True);"
   ]
  },
  {
   "cell_type": "code",
   "execution_count": 6,
   "metadata": {},
   "outputs": [
    {
     "data": {
      "text/plain": [
       "ShapiroResult(statistic=0.9166607856750488, pvalue=2.802596928649634e-44)"
      ]
     },
     "execution_count": 6,
     "metadata": {},
     "output_type": "execute_result"
    }
   ],
   "source": [
    "stats.shapiro(df[\"basic\"])"
   ]
  },
  {
   "attachments": {},
   "cell_type": "markdown",
   "metadata": {},
   "source": [
    "Confirmamos una vez más que nuestra variable dependiente no sigue un adistribución normal. Empleamos directamente el método BoxCox para intentarlo ya que su distribución dista significativamente de la deseada."
   ]
  },
  {
   "cell_type": "code",
   "execution_count": 8,
   "metadata": {},
   "outputs": [],
   "source": [
    "df['basic_boxcox'], lambda_ajustada = stats.boxcox(df['basic'])"
   ]
  },
  {
   "cell_type": "code",
   "execution_count": 10,
   "metadata": {},
   "outputs": [
    {
     "data": {
      "image/png": "[encoded data removed]",
      "text/plain": [
       "<Figure size 432x288 with 1 Axes>"
      ]
     },
     "metadata": {
      "needs_background": "light"
     },
     "output_type": "display_data"
    }
   ],
   "source": [
    "sns.histplot(df['basic_boxcox'], kde=True);"
   ]
  },
  {
   "cell_type": "code",
   "execution_count": 9,
   "metadata": {},
   "outputs": [
    {
     "data": {
      "text/plain": [
       "ShapiroResult(statistic=0.9899473190307617, pvalue=2.695348339105462e-17)"
      ]
     },
     "execution_count": 9,
     "metadata": {},
     "output_type": "execute_result"
    }
   ],
   "source": [
    "stats.shapiro(df[\"basic_boxcox\"])"
   ]
  },
  {
   "attachments": {},
   "cell_type": "markdown",
   "metadata": {},
   "source": [
    "Aunque tras la transformación el **pvalue** ha mejorado, sigue estando muy alejadao del valor deseado (> 0.05), por lo que tenemos que conlcuir que nuestra variable respuesta no puede normalizarse.\n",
    "\n",
    "Esto nos lleva a la conclusión nuevamente de que no podremos utilizar un modelo de regresión lineal."
   ]
  },
  {
   "attachments": {},
   "cell_type": "markdown",
   "metadata": {},
   "source": [
    "2- Guardar en un csv el nuevo dataframe que habéis creado para seguir usándolo en los siguientes pair programmings"
   ]
  },
  {
   "cell_type": "code",
   "execution_count": 13,
   "metadata": {},
   "outputs": [
    {
     "data": {
      "text/html": [
       "<div>\n",
       "<style scoped>\n",
       "    .dataframe tbody tr th:only-of-type {\n",
       "        vertical-align: middle;\n",
       "    }\n",
       "\n",
       "    .dataframe tbody tr th {\n",
       "        vertical-align: top;\n",
       "    }\n",
       "\n",
       "    .dataframe thead th {\n",
       "        text-align: right;\n",
       "    }\n",
       "</style>\n",
       "<table border=\"1\" class=\"dataframe\">\n",
       "  <thead>\n",
       "    <tr style=\"text-align: right;\">\n",
       "      <th></th>\n",
       "      <th>city</th>\n",
       "      <th>country</th>\n",
       "      <th>mcdonalds</th>\n",
       "      <th>cappuccino</th>\n",
       "      <th>milk</th>\n",
       "      <th>rice</th>\n",
       "      <th>eggs</th>\n",
       "      <th>chicken</th>\n",
       "      <th>beef</th>\n",
       "      <th>banana</th>\n",
       "      <th>water</th>\n",
       "      <th>wine</th>\n",
       "      <th>beer</th>\n",
       "      <th>cigarettes_marlboro</th>\n",
       "      <th>public_transport_ticket</th>\n",
       "      <th>taxi</th>\n",
       "      <th>gasoline</th>\n",
       "      <th>basic</th>\n",
       "      <th>internet</th>\n",
       "      <th>gym_monthly</th>\n",
       "      <th>cinema</th>\n",
       "      <th>preschool</th>\n",
       "      <th>primary_school</th>\n",
       "      <th>apt_3beds_outcentre</th>\n",
       "      <th>square_meter_incentre</th>\n",
       "      <th>monthly_salary</th>\n",
       "      <th>mortgage</th>\n",
       "      <th>basic_boxcox</th>\n",
       "    </tr>\n",
       "  </thead>\n",
       "  <tbody>\n",
       "    <tr>\n",
       "      <th>0</th>\n",
       "      <td>Seoul</td>\n",
       "      <td>South Korea</td>\n",
       "      <td>6.15</td>\n",
       "      <td>3.93</td>\n",
       "      <td>2.20</td>\n",
       "      <td>3.53</td>\n",
       "      <td>4.04</td>\n",
       "      <td>10.58</td>\n",
       "      <td>41.61</td>\n",
       "      <td>3.71</td>\n",
       "      <td>1.05</td>\n",
       "      <td>15.36</td>\n",
       "      <td>2.12</td>\n",
       "      <td>3.46</td>\n",
       "      <td>1.00</td>\n",
       "      <td>0.92</td>\n",
       "      <td>1.43</td>\n",
       "      <td>182.13</td>\n",
       "      <td>22.48</td>\n",
       "      <td>55.88</td>\n",
       "      <td>9.60</td>\n",
       "      <td>404.15</td>\n",
       "      <td>17902.55</td>\n",
       "      <td>1731.08</td>\n",
       "      <td>22067.70</td>\n",
       "      <td>2689.62</td>\n",
       "      <td>3.47</td>\n",
       "      <td>16.271842</td>\n",
       "    </tr>\n",
       "    <tr>\n",
       "      <th>1</th>\n",
       "      <td>Shanghai</td>\n",
       "      <td>China</td>\n",
       "      <td>5.69</td>\n",
       "      <td>3.98</td>\n",
       "      <td>2.74</td>\n",
       "      <td>1.22</td>\n",
       "      <td>2.22</td>\n",
       "      <td>4.86</td>\n",
       "      <td>13.12</td>\n",
       "      <td>1.60</td>\n",
       "      <td>0.64</td>\n",
       "      <td>14.24</td>\n",
       "      <td>0.94</td>\n",
       "      <td>3.56</td>\n",
       "      <td>0.57</td>\n",
       "      <td>0.43</td>\n",
       "      <td>1.20</td>\n",
       "      <td>66.00</td>\n",
       "      <td>17.07</td>\n",
       "      <td>63.49</td>\n",
       "      <td>8.54</td>\n",
       "      <td>1382.62</td>\n",
       "      <td>26379.45</td>\n",
       "      <td>1561.59</td>\n",
       "      <td>17746.11</td>\n",
       "      <td>1419.87</td>\n",
       "      <td>5.03</td>\n",
       "      <td>10.244243</td>\n",
       "    </tr>\n",
       "    <tr>\n",
       "      <th>2</th>\n",
       "      <td>Guangzhou</td>\n",
       "      <td>China</td>\n",
       "      <td>4.98</td>\n",
       "      <td>3.54</td>\n",
       "      <td>1.91</td>\n",
       "      <td>1.03</td>\n",
       "      <td>1.71</td>\n",
       "      <td>3.77</td>\n",
       "      <td>11.75</td>\n",
       "      <td>1.44</td>\n",
       "      <td>0.51</td>\n",
       "      <td>11.39</td>\n",
       "      <td>0.95</td>\n",
       "      <td>3.70</td>\n",
       "      <td>0.36</td>\n",
       "      <td>0.37</td>\n",
       "      <td>1.19</td>\n",
       "      <td>59.65</td>\n",
       "      <td>16.66</td>\n",
       "      <td>34.17</td>\n",
       "      <td>8.54</td>\n",
       "      <td>555.18</td>\n",
       "      <td>24556.21</td>\n",
       "      <td>688.05</td>\n",
       "      <td>12892.82</td>\n",
       "      <td>1211.68</td>\n",
       "      <td>5.19</td>\n",
       "      <td>9.760717</td>\n",
       "    </tr>\n",
       "    <tr>\n",
       "      <th>3</th>\n",
       "      <td>Mumbai</td>\n",
       "      <td>India</td>\n",
       "      <td>3.68</td>\n",
       "      <td>2.48</td>\n",
       "      <td>0.75</td>\n",
       "      <td>0.83</td>\n",
       "      <td>0.95</td>\n",
       "      <td>3.69</td>\n",
       "      <td>5.95</td>\n",
       "      <td>0.67</td>\n",
       "      <td>0.35</td>\n",
       "      <td>9.83</td>\n",
       "      <td>2.27</td>\n",
       "      <td>4.30</td>\n",
       "      <td>0.25</td>\n",
       "      <td>0.31</td>\n",
       "      <td>1.35</td>\n",
       "      <td>43.57</td>\n",
       "      <td>9.33</td>\n",
       "      <td>25.37</td>\n",
       "      <td>4.30</td>\n",
       "      <td>107.07</td>\n",
       "      <td>3682.67</td>\n",
       "      <td>699.80</td>\n",
       "      <td>6092.45</td>\n",
       "      <td>640.81</td>\n",
       "      <td>7.96</td>\n",
       "      <td>8.371859</td>\n",
       "    </tr>\n",
       "    <tr>\n",
       "      <th>4</th>\n",
       "      <td>Delhi</td>\n",
       "      <td>India</td>\n",
       "      <td>4.30</td>\n",
       "      <td>1.77</td>\n",
       "      <td>0.73</td>\n",
       "      <td>0.85</td>\n",
       "      <td>1.02</td>\n",
       "      <td>3.81</td>\n",
       "      <td>5.71</td>\n",
       "      <td>0.75</td>\n",
       "      <td>0.36</td>\n",
       "      <td>9.83</td>\n",
       "      <td>1.54</td>\n",
       "      <td>4.30</td>\n",
       "      <td>0.49</td>\n",
       "      <td>0.22</td>\n",
       "      <td>1.24</td>\n",
       "      <td>58.07</td>\n",
       "      <td>7.95</td>\n",
       "      <td>21.20</td>\n",
       "      <td>4.91</td>\n",
       "      <td>74.00</td>\n",
       "      <td>1964.24</td>\n",
       "      <td>329.15</td>\n",
       "      <td>2506.73</td>\n",
       "      <td>586.46</td>\n",
       "      <td>8.06</td>\n",
       "      <td>9.635477</td>\n",
       "    </tr>\n",
       "  </tbody>\n",
       "</table>\n",
       "</div>"
      ],
      "text/plain": [
       "        city      country  mcdonalds  cappuccino  milk  rice  eggs  chicken   \n",
       "0      Seoul  South Korea       6.15        3.93  2.20  3.53  4.04    10.58  \\\n",
       "1   Shanghai        China       5.69        3.98  2.74  1.22  2.22     4.86   \n",
       "2  Guangzhou        China       4.98        3.54  1.91  1.03  1.71     3.77   \n",
       "3     Mumbai        India       3.68        2.48  0.75  0.83  0.95     3.69   \n",
       "4      Delhi        India       4.30        1.77  0.73  0.85  1.02     3.81   \n",
       "\n",
       "    beef  banana  water   wine  beer  cigarettes_marlboro   \n",
       "0  41.61    3.71   1.05  15.36  2.12                 3.46  \\\n",
       "1  13.12    1.60   0.64  14.24  0.94                 3.56   \n",
       "2  11.75    1.44   0.51  11.39  0.95                 3.70   \n",
       "3   5.95    0.67   0.35   9.83  2.27                 4.30   \n",
       "4   5.71    0.75   0.36   9.83  1.54                 4.30   \n",
       "\n",
       "   public_transport_ticket  taxi  gasoline   basic  internet  gym_monthly   \n",
       "0                     1.00  0.92      1.43  182.13     22.48        55.88  \\\n",
       "1                     0.57  0.43      1.20   66.00     17.07        63.49   \n",
       "2                     0.36  0.37      1.19   59.65     16.66        34.17   \n",
       "3                     0.25  0.31      1.35   43.57      9.33        25.37   \n",
       "4                     0.49  0.22      1.24   58.07      7.95        21.20   \n",
       "\n",
       "   cinema  preschool  primary_school  apt_3beds_outcentre   \n",
       "0    9.60     404.15        17902.55              1731.08  \\\n",
       "1    8.54    1382.62        26379.45              1561.59   \n",
       "2    8.54     555.18        24556.21               688.05   \n",
       "3    4.30     107.07         3682.67               699.80   \n",
       "4    4.91      74.00         1964.24               329.15   \n",
       "\n",
       "   square_meter_incentre  monthly_salary  mortgage  basic_boxcox  \n",
       "0               22067.70         2689.62      3.47     16.271842  \n",
       "1               17746.11         1419.87      5.03     10.244243  \n",
       "2               12892.82         1211.68      5.19      9.760717  \n",
       "3                6092.45          640.81      7.96      8.371859  \n",
       "4                2506.73          586.46      8.06      9.635477  "
      ]
     },
     "execution_count": 13,
     "metadata": {},
     "output_type": "execute_result"
    }
   ],
   "source": [
    "df.head()"
   ]
  },
  {
   "cell_type": "code",
   "execution_count": 13,
   "metadata": {},
   "outputs": [],
   "source": [
    "df.to_pickle('../archivos/coste_vida_boxcox.pkl')"
   ]
  }
 ],
 "metadata": {
  "kernelspec": {
   "display_name": "base",
   "language": "python",
   "name": "python3"
  },
  "language_info": {
   "codemirror_mode": {
    "name": "ipython",
    "version": 3
   },
   "file_extension": ".py",
   "mimetype": "text/x-python",
   "name": "python",
   "nbconvert_exporter": "python",
   "pygments_lexer": "ipython3",
   "version": "3.9.7"
  },
  "orig_nbformat": 4
 },
 "nbformat": 4,
 "nbformat_minor": 2
}
