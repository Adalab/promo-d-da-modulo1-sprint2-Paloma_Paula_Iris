{
 "cells": [
  {
   "attachments": {},
   "cell_type": "markdown",
   "metadata": {},
   "source": [
    "# Test Estadísticos"
   ]
  },
  {
   "attachments": {},
   "cell_type": "markdown",
   "metadata": {},
   "source": [
    "En este ejercicio de pair programming seguiréis usando el dataset que seleccionasteis ayer."
   ]
  },
  {
   "cell_type": "code",
   "execution_count": 12,
   "metadata": {},
   "outputs": [],
   "source": [
    "import pandas as pd\n",
    "import statsmodels.api as sm\n",
    "from scipy.stats import skew\n",
    "from scipy.stats import kurtosistest\n",
    "from scipy import stats\n",
    "from scipy.stats import kstest\n",
    "\n",
    "import seaborn as sns"
   ]
  },
  {
   "cell_type": "code",
   "execution_count": 2,
   "metadata": {},
   "outputs": [],
   "source": [
    "df = pd.read_csv('../archivos/coste_vida_limpio.csv', index_col = 0)"
   ]
  },
  {
   "cell_type": "code",
   "execution_count": 4,
   "metadata": {},
   "outputs": [
    {
     "data": {
      "text/html": [
       "<div>\n",
       "<style scoped>\n",
       "    .dataframe tbody tr th:only-of-type {\n",
       "        vertical-align: middle;\n",
       "    }\n",
       "\n",
       "    .dataframe tbody tr th {\n",
       "        vertical-align: top;\n",
       "    }\n",
       "\n",
       "    .dataframe thead th {\n",
       "        text-align: right;\n",
       "    }\n",
       "</style>\n",
       "<table border=\"1\" class=\"dataframe\">\n",
       "  <thead>\n",
       "    <tr style=\"text-align: right;\">\n",
       "      <th></th>\n",
       "      <th>city</th>\n",
       "      <th>country</th>\n",
       "      <th>Meal_Inexpensive_Restaurant</th>\n",
       "      <th>Mealfor2_Midrange_Restaurant</th>\n",
       "      <th>McMeal_at_McDonalds</th>\n",
       "      <th>Cappuccino</th>\n",
       "      <th>Milk_1l</th>\n",
       "      <th>Rice_1kg</th>\n",
       "      <th>Eggs_12uds</th>\n",
       "      <th>Chicken_Fillets_1kg</th>\n",
       "      <th>...</th>\n",
       "      <th>Primary_School_Yearly</th>\n",
       "      <th>Apt_1bed_inCentre</th>\n",
       "      <th>Apt_1bed_OutsideCentre</th>\n",
       "      <th>Apt_3beds_inCentre</th>\n",
       "      <th>Apt_3beds_OutsideCentre</th>\n",
       "      <th>Price_per_Square_Meter_inCentre</th>\n",
       "      <th>Price_per_Square_Meter_OutsideCentre</th>\n",
       "      <th>Average_Monthly_Net_Salary</th>\n",
       "      <th>Mortgage_Interest_Rate_%_Yearly_20_Years</th>\n",
       "      <th>data_quality</th>\n",
       "    </tr>\n",
       "  </thead>\n",
       "  <tbody>\n",
       "    <tr>\n",
       "      <th>0</th>\n",
       "      <td>Seoul</td>\n",
       "      <td>South Korea</td>\n",
       "      <td>7.68</td>\n",
       "      <td>53.78</td>\n",
       "      <td>6.15</td>\n",
       "      <td>3.93</td>\n",
       "      <td>2.20</td>\n",
       "      <td>3.53</td>\n",
       "      <td>4.04</td>\n",
       "      <td>10.58</td>\n",
       "      <td>...</td>\n",
       "      <td>17902.55</td>\n",
       "      <td>742.54</td>\n",
       "      <td>557.52</td>\n",
       "      <td>2669.12</td>\n",
       "      <td>1731.08</td>\n",
       "      <td>22067.70</td>\n",
       "      <td>10971.90</td>\n",
       "      <td>2689.62</td>\n",
       "      <td>3.47</td>\n",
       "      <td>1.0</td>\n",
       "    </tr>\n",
       "    <tr>\n",
       "      <th>1</th>\n",
       "      <td>Shanghai</td>\n",
       "      <td>China</td>\n",
       "      <td>5.69</td>\n",
       "      <td>39.86</td>\n",
       "      <td>5.69</td>\n",
       "      <td>3.98</td>\n",
       "      <td>2.74</td>\n",
       "      <td>1.22</td>\n",
       "      <td>2.22</td>\n",
       "      <td>4.86</td>\n",
       "      <td>...</td>\n",
       "      <td>26379.45</td>\n",
       "      <td>1091.93</td>\n",
       "      <td>569.88</td>\n",
       "      <td>2952.70</td>\n",
       "      <td>1561.59</td>\n",
       "      <td>17746.11</td>\n",
       "      <td>9416.35</td>\n",
       "      <td>1419.87</td>\n",
       "      <td>5.03</td>\n",
       "      <td>1.0</td>\n",
       "    </tr>\n",
       "    <tr>\n",
       "      <th>2</th>\n",
       "      <td>Guangzhou</td>\n",
       "      <td>China</td>\n",
       "      <td>4.13</td>\n",
       "      <td>28.47</td>\n",
       "      <td>4.98</td>\n",
       "      <td>3.54</td>\n",
       "      <td>1.91</td>\n",
       "      <td>1.03</td>\n",
       "      <td>1.71</td>\n",
       "      <td>3.77</td>\n",
       "      <td>...</td>\n",
       "      <td>24556.21</td>\n",
       "      <td>533.28</td>\n",
       "      <td>317.45</td>\n",
       "      <td>1242.24</td>\n",
       "      <td>688.05</td>\n",
       "      <td>12892.82</td>\n",
       "      <td>5427.45</td>\n",
       "      <td>1211.68</td>\n",
       "      <td>5.19</td>\n",
       "      <td>1.0</td>\n",
       "    </tr>\n",
       "    <tr>\n",
       "      <th>3</th>\n",
       "      <td>Mumbai</td>\n",
       "      <td>India</td>\n",
       "      <td>3.68</td>\n",
       "      <td>18.42</td>\n",
       "      <td>3.68</td>\n",
       "      <td>2.48</td>\n",
       "      <td>0.75</td>\n",
       "      <td>0.83</td>\n",
       "      <td>0.95</td>\n",
       "      <td>3.69</td>\n",
       "      <td>...</td>\n",
       "      <td>3682.67</td>\n",
       "      <td>522.40</td>\n",
       "      <td>294.05</td>\n",
       "      <td>1411.12</td>\n",
       "      <td>699.80</td>\n",
       "      <td>6092.45</td>\n",
       "      <td>2777.51</td>\n",
       "      <td>640.81</td>\n",
       "      <td>7.96</td>\n",
       "      <td>1.0</td>\n",
       "    </tr>\n",
       "    <tr>\n",
       "      <th>4</th>\n",
       "      <td>Delhi</td>\n",
       "      <td>India</td>\n",
       "      <td>4.91</td>\n",
       "      <td>22.11</td>\n",
       "      <td>4.30</td>\n",
       "      <td>1.77</td>\n",
       "      <td>0.73</td>\n",
       "      <td>0.85</td>\n",
       "      <td>1.02</td>\n",
       "      <td>3.81</td>\n",
       "      <td>...</td>\n",
       "      <td>1964.24</td>\n",
       "      <td>229.84</td>\n",
       "      <td>135.31</td>\n",
       "      <td>601.02</td>\n",
       "      <td>329.15</td>\n",
       "      <td>2506.73</td>\n",
       "      <td>1036.74</td>\n",
       "      <td>586.46</td>\n",
       "      <td>8.06</td>\n",
       "      <td>1.0</td>\n",
       "    </tr>\n",
       "  </tbody>\n",
       "</table>\n",
       "<p>5 rows × 36 columns</p>\n",
       "</div>"
      ],
      "text/plain": [
       "        city      country  Meal_Inexpensive_Restaurant   \n",
       "0      Seoul  South Korea                         7.68  \\\n",
       "1   Shanghai        China                         5.69   \n",
       "2  Guangzhou        China                         4.13   \n",
       "3     Mumbai        India                         3.68   \n",
       "4      Delhi        India                         4.91   \n",
       "\n",
       "   Mealfor2_Midrange_Restaurant  McMeal_at_McDonalds  Cappuccino  Milk_1l   \n",
       "0                         53.78                 6.15        3.93     2.20  \\\n",
       "1                         39.86                 5.69        3.98     2.74   \n",
       "2                         28.47                 4.98        3.54     1.91   \n",
       "3                         18.42                 3.68        2.48     0.75   \n",
       "4                         22.11                 4.30        1.77     0.73   \n",
       "\n",
       "   Rice_1kg  Eggs_12uds  Chicken_Fillets_1kg  ...  Primary_School_Yearly   \n",
       "0      3.53        4.04                10.58  ...               17902.55  \\\n",
       "1      1.22        2.22                 4.86  ...               26379.45   \n",
       "2      1.03        1.71                 3.77  ...               24556.21   \n",
       "3      0.83        0.95                 3.69  ...                3682.67   \n",
       "4      0.85        1.02                 3.81  ...                1964.24   \n",
       "\n",
       "   Apt_1bed_inCentre  Apt_1bed_OutsideCentre  Apt_3beds_inCentre   \n",
       "0             742.54                  557.52             2669.12  \\\n",
       "1            1091.93                  569.88             2952.70   \n",
       "2             533.28                  317.45             1242.24   \n",
       "3             522.40                  294.05             1411.12   \n",
       "4             229.84                  135.31              601.02   \n",
       "\n",
       "   Apt_3beds_OutsideCentre  Price_per_Square_Meter_inCentre   \n",
       "0                  1731.08                         22067.70  \\\n",
       "1                  1561.59                         17746.11   \n",
       "2                   688.05                         12892.82   \n",
       "3                   699.80                          6092.45   \n",
       "4                   329.15                          2506.73   \n",
       "\n",
       "   Price_per_Square_Meter_OutsideCentre  Average_Monthly_Net_Salary   \n",
       "0                              10971.90                     2689.62  \\\n",
       "1                               9416.35                     1419.87   \n",
       "2                               5427.45                     1211.68   \n",
       "3                               2777.51                      640.81   \n",
       "4                               1036.74                      586.46   \n",
       "\n",
       "   Mortgage_Interest_Rate_%_Yearly_20_Years  data_quality  \n",
       "0                                      3.47           1.0  \n",
       "1                                      5.03           1.0  \n",
       "2                                      5.19           1.0  \n",
       "3                                      7.96           1.0  \n",
       "4                                      8.06           1.0  \n",
       "\n",
       "[5 rows x 36 columns]"
      ]
     },
     "execution_count": 4,
     "metadata": {},
     "output_type": "execute_result"
    }
   ],
   "source": [
    "df.head()"
   ]
  },
  {
   "attachments": {},
   "cell_type": "markdown",
   "metadata": {},
   "source": [
    "1- ¿Qué diferencia existe el error de tipo I y el error de tipo II?"
   ]
  },
  {
   "attachments": {},
   "cell_type": "markdown",
   "metadata": {},
   "source": [
    "- En el error de tipo I rechazamos la hipótesis nula, siendo verdadera\n",
    "- En el error de tipo II aceptamos la hipótesis nula, siendo falsa"
   ]
  },
  {
   "attachments": {},
   "cell_type": "markdown",
   "metadata": {},
   "source": [
    "2- ¿Qué es la asimetría?"
   ]
  },
  {
   "attachments": {},
   "cell_type": "markdown",
   "metadata": {},
   "source": [
    "La asimetría es la distribución irregular de la muestra alrededor de la media, cuya curva puede estar sesgada hacia la derecha o hacia la izquierda. "
   ]
  },
  {
   "attachments": {},
   "cell_type": "markdown",
   "metadata": {},
   "source": [
    "3- ¿Es vuestra variable respuesta asimétrica?"
   ]
  },
  {
   "cell_type": "code",
   "execution_count": 13,
   "metadata": {},
   "outputs": [
    {
     "data": {
      "text/plain": [
       "1.5148419375144855"
      ]
     },
     "execution_count": 13,
     "metadata": {},
     "output_type": "execute_result"
    }
   ],
   "source": [
    "skew(df['Basic'])"
   ]
  },
  {
   "attachments": {},
   "cell_type": "markdown",
   "metadata": {},
   "source": [
    "4- ¿Qué tipo de curtosis presenta vuestra variable respuesta?"
   ]
  },
  {
   "cell_type": "code",
   "execution_count": 10,
   "metadata": {},
   "outputs": [
    {
     "data": {
      "text/plain": [
       "KurtosistestResult(statistic=27.866484387431885, pvalue=6.801037398866967e-171)"
      ]
     },
     "execution_count": 10,
     "metadata": {},
     "output_type": "execute_result"
    }
   ],
   "source": [
    "kurtosistest(df['Basic'])"
   ]
  },
  {
   "attachments": {},
   "cell_type": "markdown",
   "metadata": {},
   "source": [
    "5- ¿Es vuestra variable respuesta normal? Demostrarlo visual y analíticamente."
   ]
  },
  {
   "cell_type": "code",
   "execution_count": 16,
   "metadata": {},
   "outputs": [
    {
     "data": {
      "text/plain": [
       "<AxesSubplot:xlabel='Basic', ylabel='Count'>"
      ]
     },
     "execution_count": 16,
     "metadata": {},
     "output_type": "execute_result"
    },
    {
     "data": {
      "image/png": "[encoded data removed]",
      "text/plain": [
       "<Figure size 432x288 with 1 Axes>"
      ]
     },
     "metadata": {
      "needs_background": "light"
     },
     "output_type": "display_data"
    }
   ],
   "source": [
    "sns.histplot(df['Basic'])"
   ]
  },
  {
   "cell_type": "code",
   "execution_count": 17,
   "metadata": {},
   "outputs": [
    {
     "data": {
      "text/plain": [
       "ShapiroResult(statistic=0.9187403917312622, pvalue=1.401298464324817e-45)"
      ]
     },
     "execution_count": 17,
     "metadata": {},
     "output_type": "execute_result"
    }
   ],
   "source": [
    "stats.shapiro(df['Basic'])"
   ]
  },
  {
   "attachments": {},
   "cell_type": "markdown",
   "metadata": {},
   "source": [
    "- Nuestra variable dependiente NO sigue una distribución normal"
   ]
  }
 ],
 "metadata": {
  "kernelspec": {
   "display_name": "base",
   "language": "python",
   "name": "python3"
  },
  "language_info": {
   "codemirror_mode": {
    "name": "ipython",
    "version": 3
   },
   "file_extension": ".py",
   "mimetype": "text/x-python",
   "name": "python",
   "nbconvert_exporter": "python",
   "pygments_lexer": "ipython3",
   "version": "3.9.7"
  },
  "orig_nbformat": 4
 },
 "nbformat": 4,
 "nbformat_minor": 2
}
