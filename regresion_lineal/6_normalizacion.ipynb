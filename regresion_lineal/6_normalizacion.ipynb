{
 "cells": [
  {
   "attachments": {},
   "cell_type": "markdown",
   "metadata": {},
   "source": [
    "## Normalización"
   ]
  },
  {
   "attachments": {},
   "cell_type": "markdown",
   "metadata": {},
   "source": [
    "En vuestro dataset habréis identificado unas variables predictoras y una variable respuesta. Los objetivos del pair programming de hoy son:"
   ]
  },
  {
   "cell_type": "code",
   "execution_count": 6,
   "metadata": {},
   "outputs": [],
   "source": [
    "import pandas as pd\n",
    "import numpy as np\n",
    "\n",
    "import seaborn as sns\n",
    "import matplotlib.pyplot as plt\n",
    "\n",
    "from scipy import stats\n",
    "import math \n",
    "from sklearn.preprocessing import MinMaxScaler\n",
    "\n",
    "import warnings\n",
    "warnings.filterwarnings('ignore')\n",
    "\n",
    "plt.rcParams[\"figure.figsize\"] = (15,15) \n",
    "pd.options.display.max_columns = None "
   ]
  },
  {
   "cell_type": "code",
   "execution_count": 2,
   "metadata": {},
   "outputs": [],
   "source": [
    "df = pd.read_csv('../archivos/coste_vida_valido.csv', index_col = 0)"
   ]
  },
  {
   "cell_type": "code",
   "execution_count": 3,
   "metadata": {},
   "outputs": [
    {
     "data": {
      "text/html": [
       "<div>\n",
       "<style scoped>\n",
       "    .dataframe tbody tr th:only-of-type {\n",
       "        vertical-align: middle;\n",
       "    }\n",
       "\n",
       "    .dataframe tbody tr th {\n",
       "        vertical-align: top;\n",
       "    }\n",
       "\n",
       "    .dataframe thead th {\n",
       "        text-align: right;\n",
       "    }\n",
       "</style>\n",
       "<table border=\"1\" class=\"dataframe\">\n",
       "  <thead>\n",
       "    <tr style=\"text-align: right;\">\n",
       "      <th></th>\n",
       "      <th>city</th>\n",
       "      <th>country</th>\n",
       "      <th>mcdonalds</th>\n",
       "      <th>cappuccino</th>\n",
       "      <th>milk</th>\n",
       "      <th>rice</th>\n",
       "      <th>eggs</th>\n",
       "      <th>chicken</th>\n",
       "      <th>beef</th>\n",
       "      <th>banana</th>\n",
       "      <th>water</th>\n",
       "      <th>wine</th>\n",
       "      <th>beer</th>\n",
       "      <th>cigarettes_marlboro</th>\n",
       "      <th>public_transport_ticket</th>\n",
       "      <th>taxi</th>\n",
       "      <th>gasoline</th>\n",
       "      <th>basic</th>\n",
       "      <th>internet</th>\n",
       "      <th>gym_monthly</th>\n",
       "      <th>cinema</th>\n",
       "      <th>preschool</th>\n",
       "      <th>primary_school</th>\n",
       "      <th>apt_3beds_outcentre</th>\n",
       "      <th>square_meter_incentre</th>\n",
       "      <th>monthly_salary</th>\n",
       "      <th>mortgage</th>\n",
       "    </tr>\n",
       "  </thead>\n",
       "  <tbody>\n",
       "    <tr>\n",
       "      <th>0</th>\n",
       "      <td>Seoul</td>\n",
       "      <td>South Korea</td>\n",
       "      <td>6.15</td>\n",
       "      <td>3.93</td>\n",
       "      <td>2.20</td>\n",
       "      <td>3.53</td>\n",
       "      <td>4.04</td>\n",
       "      <td>10.58</td>\n",
       "      <td>41.61</td>\n",
       "      <td>3.71</td>\n",
       "      <td>1.05</td>\n",
       "      <td>15.36</td>\n",
       "      <td>2.12</td>\n",
       "      <td>3.46</td>\n",
       "      <td>1.00</td>\n",
       "      <td>0.92</td>\n",
       "      <td>1.43</td>\n",
       "      <td>182.13</td>\n",
       "      <td>22.48</td>\n",
       "      <td>55.88</td>\n",
       "      <td>9.60</td>\n",
       "      <td>404.15</td>\n",
       "      <td>17902.55</td>\n",
       "      <td>1731.08</td>\n",
       "      <td>22067.70</td>\n",
       "      <td>2689.62</td>\n",
       "      <td>3.47</td>\n",
       "    </tr>\n",
       "    <tr>\n",
       "      <th>1</th>\n",
       "      <td>Shanghai</td>\n",
       "      <td>China</td>\n",
       "      <td>5.69</td>\n",
       "      <td>3.98</td>\n",
       "      <td>2.74</td>\n",
       "      <td>1.22</td>\n",
       "      <td>2.22</td>\n",
       "      <td>4.86</td>\n",
       "      <td>13.12</td>\n",
       "      <td>1.60</td>\n",
       "      <td>0.64</td>\n",
       "      <td>14.24</td>\n",
       "      <td>0.94</td>\n",
       "      <td>3.56</td>\n",
       "      <td>0.57</td>\n",
       "      <td>0.43</td>\n",
       "      <td>1.20</td>\n",
       "      <td>66.00</td>\n",
       "      <td>17.07</td>\n",
       "      <td>63.49</td>\n",
       "      <td>8.54</td>\n",
       "      <td>1382.62</td>\n",
       "      <td>26379.45</td>\n",
       "      <td>1561.59</td>\n",
       "      <td>17746.11</td>\n",
       "      <td>1419.87</td>\n",
       "      <td>5.03</td>\n",
       "    </tr>\n",
       "  </tbody>\n",
       "</table>\n",
       "</div>"
      ],
      "text/plain": [
       "       city      country  mcdonalds  cappuccino  milk  rice  eggs  chicken  \\\n",
       "0     Seoul  South Korea       6.15        3.93  2.20  3.53  4.04    10.58   \n",
       "1  Shanghai        China       5.69        3.98  2.74  1.22  2.22     4.86   \n",
       "\n",
       "    beef  banana  water   wine  beer  cigarettes_marlboro  \\\n",
       "0  41.61    3.71   1.05  15.36  2.12                 3.46   \n",
       "1  13.12    1.60   0.64  14.24  0.94                 3.56   \n",
       "\n",
       "   public_transport_ticket  taxi  gasoline   basic  internet  gym_monthly  \\\n",
       "0                     1.00  0.92      1.43  182.13     22.48        55.88   \n",
       "1                     0.57  0.43      1.20   66.00     17.07        63.49   \n",
       "\n",
       "   cinema  preschool  primary_school  apt_3beds_outcentre  \\\n",
       "0    9.60     404.15        17902.55              1731.08   \n",
       "1    8.54    1382.62        26379.45              1561.59   \n",
       "\n",
       "   square_meter_incentre  monthly_salary  mortgage  \n",
       "0               22067.70         2689.62      3.47  \n",
       "1               17746.11         1419.87      5.03  "
      ]
     },
     "execution_count": 3,
     "metadata": {},
     "output_type": "execute_result"
    }
   ],
   "source": [
    "df.head(2)"
   ]
  },
  {
   "cell_type": "code",
   "execution_count": 4,
   "metadata": {},
   "outputs": [
    {
     "data": {
      "text/plain": [
       "0"
      ]
     },
     "execution_count": 4,
     "metadata": {},
     "output_type": "execute_result"
    }
   ],
   "source": [
    "df['basic'].isnull().sum()"
   ]
  },
  {
   "attachments": {},
   "cell_type": "markdown",
   "metadata": {},
   "source": [
    "1- Sobre la variable respuesta, en pair programmings anterior identificastéis si seguía una distribución normal o no. En caso de que no siguiera una distribución normal, normalizarla. Podéis usar el método que prefiráis o el que mejor se ajuste"
   ]
  },
  {
   "cell_type": "code",
   "execution_count": 7,
   "metadata": {},
   "outputs": [
    {
     "data": {
      "image/png": "[encoded data removed]",
      "text/plain": [
       "<Figure size 1080x1080 with 1 Axes>"
      ]
     },
     "metadata": {
      "needs_background": "light"
     },
     "output_type": "display_data"
    }
   ],
   "source": [
    "sns.histplot(df['basic']);"
   ]
  },
  {
   "cell_type": "code",
   "execution_count": 8,
   "metadata": {},
   "outputs": [
    {
     "data": {
      "text/plain": [
       "ShapiroResult(statistic=0.9131569862365723, pvalue=2.1159606811304738e-43)"
      ]
     },
     "execution_count": 8,
     "metadata": {},
     "output_type": "execute_result"
    }
   ],
   "source": [
    "stats.shapiro(df[\"basic\"])"
   ]
  },
  {
   "cell_type": "code",
   "execution_count": 10,
   "metadata": {},
   "outputs": [],
   "source": [
    "df['basic_boxcox'], lambda_ajustada = stats.boxcox(df['basic'])"
   ]
  },
  {
   "cell_type": "code",
   "execution_count": 12,
   "metadata": {},
   "outputs": [
    {
     "data": {
      "text/plain": [
       "ShapiroResult(statistic=0.9894291162490845, pvalue=6.522045167761746e-17)"
      ]
     },
     "execution_count": 12,
     "metadata": {},
     "output_type": "execute_result"
    }
   ],
   "source": [
    "stats.shapiro(df[\"basic_boxcox\"])"
   ]
  },
  {
   "cell_type": "code",
   "execution_count": 14,
   "metadata": {},
   "outputs": [
    {
     "data": {
      "image/png": "[encoded data removed]",
      "text/plain": [
       "<Figure size 1080x1080 with 1 Axes>"
      ]
     },
     "metadata": {
      "needs_background": "light"
     },
     "output_type": "display_data"
    }
   ],
   "source": [
    "sns.histplot(df['basic_boxcox']);"
   ]
  },
  {
   "cell_type": "code",
   "execution_count": 15,
   "metadata": {},
   "outputs": [
    {
     "data": {
      "text/plain": [
       "0.3779432231984016"
      ]
     },
     "execution_count": 15,
     "metadata": {},
     "output_type": "execute_result"
    }
   ],
   "source": [
    "lambda_ajustada"
   ]
  },
  {
   "attachments": {},
   "cell_type": "markdown",
   "metadata": {},
   "source": [
    "- Nuestra variable dependiente no puede normalizarse."
   ]
  },
  {
   "attachments": {},
   "cell_type": "markdown",
   "metadata": {},
   "source": [
    "### Probamos a normalizar otra variable como práctica"
   ]
  },
  {
   "cell_type": "code",
   "execution_count": 16,
   "metadata": {},
   "outputs": [],
   "source": [
    "df_num = df.select_dtypes(include = np.number)"
   ]
  },
  {
   "cell_type": "code",
   "execution_count": 17,
   "metadata": {},
   "outputs": [
    {
     "name": "stdout",
     "output_type": "stream",
     "text": [
      "mcdonalds, NO tiene distribución normal -> 3.3051341183991146e-29\n",
      "--------------------------------------------------------\n",
      "cappuccino, NO tiene distribución normal -> 9.230846054182422e-30\n",
      "--------------------------------------------------------\n",
      "milk, NO tiene distribución normal -> 0.0\n",
      "--------------------------------------------------------\n",
      "rice, NO tiene distribución normal -> 0.0\n",
      "--------------------------------------------------------\n",
      "eggs, NO tiene distribución normal -> 6.635597765125364e-38\n",
      "--------------------------------------------------------\n",
      "chicken, NO tiene distribución normal -> 0.0\n",
      "--------------------------------------------------------\n",
      "beef, NO tiene distribución normal -> 0.0\n",
      "--------------------------------------------------------\n",
      "banana, NO tiene distribución normal -> 0.0\n",
      "--------------------------------------------------------\n",
      "water, NO tiene distribución normal -> 0.0\n",
      "--------------------------------------------------------\n",
      "wine, NO tiene distribución normal -> 6.700056373445534e-40\n",
      "--------------------------------------------------------\n",
      "beer, NO tiene distribución normal -> 9.618933048664842e-41\n",
      "--------------------------------------------------------\n",
      "cigarettes_marlboro, NO tiene distribución normal -> 0.0\n",
      "--------------------------------------------------------\n",
      "public_transport_ticket, NO tiene distribución normal -> 0.0\n",
      "--------------------------------------------------------\n",
      "taxi, NO tiene distribución normal -> 1.0906544168578986e-39\n",
      "--------------------------------------------------------\n",
      "gasoline, NO tiene distribución normal -> 1.128458819600963e-24\n",
      "--------------------------------------------------------\n",
      "basic, NO tiene distribución normal -> 2.1159606811304738e-43\n",
      "--------------------------------------------------------\n",
      "internet, NO tiene distribución normal -> 0.0\n",
      "--------------------------------------------------------\n",
      "gym_monthly, NO tiene distribución normal -> 0.0\n",
      "--------------------------------------------------------\n",
      "cinema, NO tiene distribución normal -> 2.4922511491670716e-30\n",
      "--------------------------------------------------------\n",
      "preschool, NO tiene distribución normal -> 0.0\n",
      "--------------------------------------------------------\n",
      "primary_school, NO tiene distribución normal -> 0.0\n",
      "--------------------------------------------------------\n",
      "apt_3beds_outcentre, NO tiene distribución normal -> 0.0\n",
      "--------------------------------------------------------\n",
      "square_meter_incentre, NO tiene distribución normal -> 0.0\n",
      "--------------------------------------------------------\n",
      "monthly_salary, NO tiene distribución normal -> 0.0\n",
      "--------------------------------------------------------\n",
      "mortgage, NO tiene distribución normal -> 0.0\n",
      "--------------------------------------------------------\n",
      "basic_boxcox, NO tiene distribución normal -> 6.522045167761746e-17\n",
      "--------------------------------------------------------\n"
     ]
    }
   ],
   "source": [
    "for col in df_num.columns:\n",
    "    if stats.shapiro(df[col])[1] > 0.05:\n",
    "        print(f'{col} SÍ tiene distribución normal -> {stats.shapiro(df_num[col])[1]}')\n",
    "    else:\n",
    "        print(f'{col}, NO tiene distribución normal -> {stats.shapiro(df_num[col])[1]}')\n",
    "    print('--------------------------------------------------------')"
   ]
  },
  {
   "cell_type": "code",
   "execution_count": null,
   "metadata": {},
   "outputs": [],
   "source": []
  },
  {
   "attachments": {},
   "cell_type": "markdown",
   "metadata": {},
   "source": [
    "2- Guardar en un csv el nuevo dataframe que habéis creado para seguir usándolo en los siguientes pair programmings"
   ]
  }
 ],
 "metadata": {
  "kernelspec": {
   "display_name": "base",
   "language": "python",
   "name": "python3"
  },
  "language_info": {
   "codemirror_mode": {
    "name": "ipython",
    "version": 3
   },
   "file_extension": ".py",
   "mimetype": "text/x-python",
   "name": "python",
   "nbconvert_exporter": "python",
   "pygments_lexer": "ipython3",
   "version": "3.9.7"
  },
  "orig_nbformat": 4
 },
 "nbformat": 4,
 "nbformat_minor": 2
}
