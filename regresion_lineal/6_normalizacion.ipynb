{
 "cells": [
  {
   "attachments": {},
   "cell_type": "markdown",
   "metadata": {},
   "source": [
    "## Normalización"
   ]
  },
  {
   "attachments": {},
   "cell_type": "markdown",
   "metadata": {},
   "source": [
    "En vuestro dataset habréis identificado unas variables predictoras y una variable respuesta. Los objetivos del pair programming de hoy son:"
   ]
  },
  {
   "cell_type": "code",
   "execution_count": 1,
   "metadata": {},
   "outputs": [],
   "source": [
    "import pandas as pd\n",
    "import numpy as np\n",
    "\n",
    "import seaborn as sns\n",
    "import matplotlib.pyplot as plt\n",
    "\n",
    "from scipy import stats\n",
    "import math \n",
    "from sklearn.preprocessing import MinMaxScaler\n",
    "\n",
    "import warnings\n",
    "warnings.filterwarnings('ignore')\n",
    "\n",
    "pd.options.display.max_columns = None "
   ]
  },
  {
   "cell_type": "code",
   "execution_count": 2,
   "metadata": {},
   "outputs": [],
   "source": [
    "df = pd.read_csv('../archivos/cos_of_living_notnull.csv', index_col = 0)"
   ]
  },
  {
   "cell_type": "code",
   "execution_count": 3,
   "metadata": {},
   "outputs": [
    {
     "data": {
      "text/html": [
       "<div>\n",
       "<style scoped>\n",
       "    .dataframe tbody tr th:only-of-type {\n",
       "        vertical-align: middle;\n",
       "    }\n",
       "\n",
       "    .dataframe tbody tr th {\n",
       "        vertical-align: top;\n",
       "    }\n",
       "\n",
       "    .dataframe thead th {\n",
       "        text-align: right;\n",
       "    }\n",
       "</style>\n",
       "<table border=\"1\" class=\"dataframe\">\n",
       "  <thead>\n",
       "    <tr style=\"text-align: right;\">\n",
       "      <th></th>\n",
       "      <th>city</th>\n",
       "      <th>country</th>\n",
       "      <th>Meal_Inexpensive_Restaurant</th>\n",
       "      <th>Mealfor2_Midrange_Restaurant</th>\n",
       "      <th>McMeal_at_McDonalds</th>\n",
       "      <th>Cappuccino</th>\n",
       "      <th>Milk_1l</th>\n",
       "      <th>Rice_1kg</th>\n",
       "      <th>Eggs_12uds</th>\n",
       "      <th>Chicken_Fillets_1kg</th>\n",
       "      <th>Beef_Round_1kg</th>\n",
       "      <th>Water_1.5l_market</th>\n",
       "      <th>Wine_market</th>\n",
       "      <th>Domestic_Beer_0.5l_market</th>\n",
       "      <th>Imported_Beer_0.33l_market</th>\n",
       "      <th>Cigarettes_20_Pack_Marlboro</th>\n",
       "      <th>One-way_Ticket_Local_Transport</th>\n",
       "      <th>Monthly_Pass_Regular_Price</th>\n",
       "      <th>Taxi_1km_Normal_Tariff</th>\n",
       "      <th>Gasoline_1l</th>\n",
       "      <th>Basic</th>\n",
       "      <th>Prepaid_Mobile</th>\n",
       "      <th>Internet</th>\n",
       "      <th>Gym_Monthly</th>\n",
       "      <th>Cinema_1Seat</th>\n",
       "      <th>Preschool_Monthly</th>\n",
       "      <th>Primary_School_Yearly</th>\n",
       "      <th>Apt_1bed_inCentre</th>\n",
       "      <th>Apt_1bed_OutsideCentre</th>\n",
       "      <th>Apt_3beds_inCentre</th>\n",
       "      <th>Apt_3beds_OutsideCentre</th>\n",
       "      <th>Price_per_Square_Meter_inCentre</th>\n",
       "      <th>Price_per_Square_Meter_OutsideCentre</th>\n",
       "      <th>Average_Monthly_Net_Salary</th>\n",
       "      <th>Mortgage_Interest_Rate_%_Yearly_20_Years</th>\n",
       "      <th>data_quality</th>\n",
       "    </tr>\n",
       "  </thead>\n",
       "  <tbody>\n",
       "    <tr>\n",
       "      <th>0</th>\n",
       "      <td>Seoul</td>\n",
       "      <td>South Korea</td>\n",
       "      <td>7.68</td>\n",
       "      <td>53.78</td>\n",
       "      <td>6.15</td>\n",
       "      <td>3.93</td>\n",
       "      <td>2.20</td>\n",
       "      <td>3.53</td>\n",
       "      <td>4.04</td>\n",
       "      <td>10.58</td>\n",
       "      <td>41.61</td>\n",
       "      <td>1.05</td>\n",
       "      <td>15.36</td>\n",
       "      <td>2.12</td>\n",
       "      <td>2.36</td>\n",
       "      <td>3.46</td>\n",
       "      <td>1.00</td>\n",
       "      <td>42.25</td>\n",
       "      <td>0.92</td>\n",
       "      <td>1.43</td>\n",
       "      <td>182.13</td>\n",
       "      <td>0.16</td>\n",
       "      <td>22.48</td>\n",
       "      <td>55.88</td>\n",
       "      <td>9.60</td>\n",
       "      <td>404.15</td>\n",
       "      <td>17902.55</td>\n",
       "      <td>742.54</td>\n",
       "      <td>557.52</td>\n",
       "      <td>2669.12</td>\n",
       "      <td>1731.08</td>\n",
       "      <td>22067.70</td>\n",
       "      <td>10971.90</td>\n",
       "      <td>2689.62</td>\n",
       "      <td>3.47</td>\n",
       "      <td>1</td>\n",
       "    </tr>\n",
       "    <tr>\n",
       "      <th>1</th>\n",
       "      <td>Shanghai</td>\n",
       "      <td>China</td>\n",
       "      <td>5.69</td>\n",
       "      <td>39.86</td>\n",
       "      <td>5.69</td>\n",
       "      <td>3.98</td>\n",
       "      <td>2.74</td>\n",
       "      <td>1.22</td>\n",
       "      <td>2.22</td>\n",
       "      <td>4.86</td>\n",
       "      <td>13.12</td>\n",
       "      <td>0.64</td>\n",
       "      <td>14.24</td>\n",
       "      <td>0.94</td>\n",
       "      <td>1.97</td>\n",
       "      <td>3.56</td>\n",
       "      <td>0.57</td>\n",
       "      <td>28.47</td>\n",
       "      <td>0.43</td>\n",
       "      <td>1.20</td>\n",
       "      <td>66.00</td>\n",
       "      <td>0.03</td>\n",
       "      <td>17.07</td>\n",
       "      <td>63.49</td>\n",
       "      <td>8.54</td>\n",
       "      <td>1382.62</td>\n",
       "      <td>26379.45</td>\n",
       "      <td>1091.93</td>\n",
       "      <td>569.88</td>\n",
       "      <td>2952.70</td>\n",
       "      <td>1561.59</td>\n",
       "      <td>17746.11</td>\n",
       "      <td>9416.35</td>\n",
       "      <td>1419.87</td>\n",
       "      <td>5.03</td>\n",
       "      <td>1</td>\n",
       "    </tr>\n",
       "  </tbody>\n",
       "</table>\n",
       "</div>"
      ],
      "text/plain": [
       "       city      country  Meal_Inexpensive_Restaurant   \n",
       "0     Seoul  South Korea                         7.68  \\\n",
       "1  Shanghai        China                         5.69   \n",
       "\n",
       "   Mealfor2_Midrange_Restaurant  McMeal_at_McDonalds  Cappuccino  Milk_1l   \n",
       "0                         53.78                 6.15        3.93     2.20  \\\n",
       "1                         39.86                 5.69        3.98     2.74   \n",
       "\n",
       "   Rice_1kg  Eggs_12uds  Chicken_Fillets_1kg  Beef_Round_1kg   \n",
       "0      3.53        4.04                10.58           41.61  \\\n",
       "1      1.22        2.22                 4.86           13.12   \n",
       "\n",
       "   Water_1.5l_market  Wine_market  Domestic_Beer_0.5l_market   \n",
       "0               1.05        15.36                       2.12  \\\n",
       "1               0.64        14.24                       0.94   \n",
       "\n",
       "   Imported_Beer_0.33l_market  Cigarettes_20_Pack_Marlboro   \n",
       "0                        2.36                         3.46  \\\n",
       "1                        1.97                         3.56   \n",
       "\n",
       "   One-way_Ticket_Local_Transport  Monthly_Pass_Regular_Price   \n",
       "0                            1.00                       42.25  \\\n",
       "1                            0.57                       28.47   \n",
       "\n",
       "   Taxi_1km_Normal_Tariff  Gasoline_1l   Basic  Prepaid_Mobile  Internet   \n",
       "0                    0.92         1.43  182.13            0.16     22.48  \\\n",
       "1                    0.43         1.20   66.00            0.03     17.07   \n",
       "\n",
       "   Gym_Monthly  Cinema_1Seat  Preschool_Monthly  Primary_School_Yearly   \n",
       "0        55.88          9.60             404.15               17902.55  \\\n",
       "1        63.49          8.54            1382.62               26379.45   \n",
       "\n",
       "   Apt_1bed_inCentre  Apt_1bed_OutsideCentre  Apt_3beds_inCentre   \n",
       "0             742.54                  557.52             2669.12  \\\n",
       "1            1091.93                  569.88             2952.70   \n",
       "\n",
       "   Apt_3beds_OutsideCentre  Price_per_Square_Meter_inCentre   \n",
       "0                  1731.08                         22067.70  \\\n",
       "1                  1561.59                         17746.11   \n",
       "\n",
       "   Price_per_Square_Meter_OutsideCentre  Average_Monthly_Net_Salary   \n",
       "0                              10971.90                     2689.62  \\\n",
       "1                               9416.35                     1419.87   \n",
       "\n",
       "   Mortgage_Interest_Rate_%_Yearly_20_Years  data_quality  \n",
       "0                                      3.47             1  \n",
       "1                                      5.03             1  "
      ]
     },
     "execution_count": 3,
     "metadata": {},
     "output_type": "execute_result"
    }
   ],
   "source": [
    "df.head(2)"
   ]
  },
  {
   "cell_type": "code",
   "execution_count": 4,
   "metadata": {},
   "outputs": [
    {
     "data": {
      "text/plain": [
       "0"
      ]
     },
     "execution_count": 4,
     "metadata": {},
     "output_type": "execute_result"
    }
   ],
   "source": [
    "df['Basic'].isnull().sum()"
   ]
  },
  {
   "attachments": {},
   "cell_type": "markdown",
   "metadata": {},
   "source": [
    "1- Sobre la variable respuesta, en pair programmings anterior identificastéis si seguía una distribución normal o no. En caso de que no siguiera una distribución normal, normalizarla. Podéis usar el método que prefiráis o el que mejor se ajuste"
   ]
  },
  {
   "cell_type": "code",
   "execution_count": 5,
   "metadata": {},
   "outputs": [
    {
     "data": {
      "text/plain": [
       "<AxesSubplot:xlabel='Basic', ylabel='Count'>"
      ]
     },
     "execution_count": 5,
     "metadata": {},
     "output_type": "execute_result"
    },
    {
     "data": {
      "image/png": "[encoded data removed]",
      "text/plain": [
       "<Figure size 432x288 with 1 Axes>"
      ]
     },
     "metadata": {
      "needs_background": "light"
     },
     "output_type": "display_data"
    }
   ],
   "source": [
    "sns.histplot(df['Basic'])"
   ]
  },
  {
   "cell_type": "code",
   "execution_count": 6,
   "metadata": {},
   "outputs": [
    {
     "data": {
      "text/plain": [
       "ShapiroResult(statistic=0.9127979278564453, pvalue=0.0)"
      ]
     },
     "execution_count": 6,
     "metadata": {},
     "output_type": "execute_result"
    }
   ],
   "source": [
    "stats.shapiro(df[\"Basic\"])"
   ]
  },
  {
   "cell_type": "code",
   "execution_count": 7,
   "metadata": {},
   "outputs": [],
   "source": [
    "df['Basic'], lambda_ajustada = stats.boxcox(df['Basic'])"
   ]
  },
  {
   "cell_type": "code",
   "execution_count": 8,
   "metadata": {},
   "outputs": [
    {
     "data": {
      "text/plain": [
       "ShapiroResult(statistic=0.9879545569419861, pvalue=3.6803695295533576e-20)"
      ]
     },
     "execution_count": 8,
     "metadata": {},
     "output_type": "execute_result"
    }
   ],
   "source": [
    "stats.shapiro(df[\"Basic\"])"
   ]
  },
  {
   "cell_type": "code",
   "execution_count": 12,
   "metadata": {},
   "outputs": [
    {
     "data": {
      "text/plain": [
       "<AxesSubplot:xlabel='Basic', ylabel='Count'>"
      ]
     },
     "execution_count": 12,
     "metadata": {},
     "output_type": "execute_result"
    },
    {
     "data": {
      "image/png": "[encoded data removed]",
      "text/plain": [
       "<Figure size 432x288 with 1 Axes>"
      ]
     },
     "metadata": {
      "needs_background": "light"
     },
     "output_type": "display_data"
    }
   ],
   "source": [
    "sns.histplot(df['Basic'])"
   ]
  },
  {
   "cell_type": "code",
   "execution_count": 9,
   "metadata": {},
   "outputs": [
    {
     "data": {
      "text/plain": [
       "0.413901823854206"
      ]
     },
     "execution_count": 9,
     "metadata": {},
     "output_type": "execute_result"
    }
   ],
   "source": [
    "lambda_ajustada"
   ]
  },
  {
   "cell_type": "code",
   "execution_count": 10,
   "metadata": {},
   "outputs": [
    {
     "data": {
      "text/html": [
       "<div>\n",
       "<style scoped>\n",
       "    .dataframe tbody tr th:only-of-type {\n",
       "        vertical-align: middle;\n",
       "    }\n",
       "\n",
       "    .dataframe tbody tr th {\n",
       "        vertical-align: top;\n",
       "    }\n",
       "\n",
       "    .dataframe thead th {\n",
       "        text-align: right;\n",
       "    }\n",
       "</style>\n",
       "<table border=\"1\" class=\"dataframe\">\n",
       "  <thead>\n",
       "    <tr style=\"text-align: right;\">\n",
       "      <th></th>\n",
       "      <th>city</th>\n",
       "      <th>country</th>\n",
       "      <th>Meal_Inexpensive_Restaurant</th>\n",
       "      <th>Mealfor2_Midrange_Restaurant</th>\n",
       "      <th>McMeal_at_McDonalds</th>\n",
       "      <th>Cappuccino</th>\n",
       "      <th>Milk_1l</th>\n",
       "      <th>Rice_1kg</th>\n",
       "      <th>Eggs_12uds</th>\n",
       "      <th>Chicken_Fillets_1kg</th>\n",
       "      <th>Beef_Round_1kg</th>\n",
       "      <th>Water_1.5l_market</th>\n",
       "      <th>Wine_market</th>\n",
       "      <th>Domestic_Beer_0.5l_market</th>\n",
       "      <th>Imported_Beer_0.33l_market</th>\n",
       "      <th>Cigarettes_20_Pack_Marlboro</th>\n",
       "      <th>One-way_Ticket_Local_Transport</th>\n",
       "      <th>Monthly_Pass_Regular_Price</th>\n",
       "      <th>Taxi_1km_Normal_Tariff</th>\n",
       "      <th>Gasoline_1l</th>\n",
       "      <th>Basic</th>\n",
       "      <th>Prepaid_Mobile</th>\n",
       "      <th>Internet</th>\n",
       "      <th>Gym_Monthly</th>\n",
       "      <th>Cinema_1Seat</th>\n",
       "      <th>Preschool_Monthly</th>\n",
       "      <th>Primary_School_Yearly</th>\n",
       "      <th>Apt_1bed_inCentre</th>\n",
       "      <th>Apt_1bed_OutsideCentre</th>\n",
       "      <th>Apt_3beds_inCentre</th>\n",
       "      <th>Apt_3beds_OutsideCentre</th>\n",
       "      <th>Price_per_Square_Meter_inCentre</th>\n",
       "      <th>Price_per_Square_Meter_OutsideCentre</th>\n",
       "      <th>Average_Monthly_Net_Salary</th>\n",
       "      <th>Mortgage_Interest_Rate_%_Yearly_20_Years</th>\n",
       "      <th>data_quality</th>\n",
       "    </tr>\n",
       "  </thead>\n",
       "  <tbody>\n",
       "    <tr>\n",
       "      <th>0</th>\n",
       "      <td>Seoul</td>\n",
       "      <td>South Korea</td>\n",
       "      <td>7.68</td>\n",
       "      <td>53.78</td>\n",
       "      <td>6.15</td>\n",
       "      <td>3.93</td>\n",
       "      <td>2.20</td>\n",
       "      <td>3.53</td>\n",
       "      <td>4.04</td>\n",
       "      <td>10.58</td>\n",
       "      <td>41.61</td>\n",
       "      <td>1.05</td>\n",
       "      <td>15.36</td>\n",
       "      <td>2.12</td>\n",
       "      <td>2.36</td>\n",
       "      <td>3.46</td>\n",
       "      <td>1.00</td>\n",
       "      <td>42.25</td>\n",
       "      <td>0.92</td>\n",
       "      <td>1.43</td>\n",
       "      <td>18.413460</td>\n",
       "      <td>0.16</td>\n",
       "      <td>22.48</td>\n",
       "      <td>55.88</td>\n",
       "      <td>9.60</td>\n",
       "      <td>404.15</td>\n",
       "      <td>17902.55</td>\n",
       "      <td>742.54</td>\n",
       "      <td>557.52</td>\n",
       "      <td>2669.12</td>\n",
       "      <td>1731.08</td>\n",
       "      <td>22067.70</td>\n",
       "      <td>10971.90</td>\n",
       "      <td>2689.62</td>\n",
       "      <td>3.47</td>\n",
       "      <td>1</td>\n",
       "    </tr>\n",
       "    <tr>\n",
       "      <th>1</th>\n",
       "      <td>Shanghai</td>\n",
       "      <td>China</td>\n",
       "      <td>5.69</td>\n",
       "      <td>39.86</td>\n",
       "      <td>5.69</td>\n",
       "      <td>3.98</td>\n",
       "      <td>2.74</td>\n",
       "      <td>1.22</td>\n",
       "      <td>2.22</td>\n",
       "      <td>4.86</td>\n",
       "      <td>13.12</td>\n",
       "      <td>0.64</td>\n",
       "      <td>14.24</td>\n",
       "      <td>0.94</td>\n",
       "      <td>1.97</td>\n",
       "      <td>3.56</td>\n",
       "      <td>0.57</td>\n",
       "      <td>28.47</td>\n",
       "      <td>0.43</td>\n",
       "      <td>1.20</td>\n",
       "      <td>11.268036</td>\n",
       "      <td>0.03</td>\n",
       "      <td>17.07</td>\n",
       "      <td>63.49</td>\n",
       "      <td>8.54</td>\n",
       "      <td>1382.62</td>\n",
       "      <td>26379.45</td>\n",
       "      <td>1091.93</td>\n",
       "      <td>569.88</td>\n",
       "      <td>2952.70</td>\n",
       "      <td>1561.59</td>\n",
       "      <td>17746.11</td>\n",
       "      <td>9416.35</td>\n",
       "      <td>1419.87</td>\n",
       "      <td>5.03</td>\n",
       "      <td>1</td>\n",
       "    </tr>\n",
       "    <tr>\n",
       "      <th>2</th>\n",
       "      <td>Guangzhou</td>\n",
       "      <td>China</td>\n",
       "      <td>4.13</td>\n",
       "      <td>28.47</td>\n",
       "      <td>4.98</td>\n",
       "      <td>3.54</td>\n",
       "      <td>1.91</td>\n",
       "      <td>1.03</td>\n",
       "      <td>1.71</td>\n",
       "      <td>3.77</td>\n",
       "      <td>11.75</td>\n",
       "      <td>0.51</td>\n",
       "      <td>11.39</td>\n",
       "      <td>0.95</td>\n",
       "      <td>2.26</td>\n",
       "      <td>3.70</td>\n",
       "      <td>0.36</td>\n",
       "      <td>28.47</td>\n",
       "      <td>0.37</td>\n",
       "      <td>1.19</td>\n",
       "      <td>10.706906</td>\n",
       "      <td>0.02</td>\n",
       "      <td>16.66</td>\n",
       "      <td>34.17</td>\n",
       "      <td>8.54</td>\n",
       "      <td>555.18</td>\n",
       "      <td>24556.21</td>\n",
       "      <td>533.28</td>\n",
       "      <td>317.45</td>\n",
       "      <td>1242.24</td>\n",
       "      <td>688.05</td>\n",
       "      <td>12892.82</td>\n",
       "      <td>5427.45</td>\n",
       "      <td>1211.68</td>\n",
       "      <td>5.19</td>\n",
       "      <td>1</td>\n",
       "    </tr>\n",
       "    <tr>\n",
       "      <th>3</th>\n",
       "      <td>Mumbai</td>\n",
       "      <td>India</td>\n",
       "      <td>3.68</td>\n",
       "      <td>18.42</td>\n",
       "      <td>3.68</td>\n",
       "      <td>2.48</td>\n",
       "      <td>0.75</td>\n",
       "      <td>0.83</td>\n",
       "      <td>0.95</td>\n",
       "      <td>3.69</td>\n",
       "      <td>5.95</td>\n",
       "      <td>0.35</td>\n",
       "      <td>9.83</td>\n",
       "      <td>2.27</td>\n",
       "      <td>3.61</td>\n",
       "      <td>4.30</td>\n",
       "      <td>0.25</td>\n",
       "      <td>4.91</td>\n",
       "      <td>0.31</td>\n",
       "      <td>1.35</td>\n",
       "      <td>9.106963</td>\n",
       "      <td>0.01</td>\n",
       "      <td>9.33</td>\n",
       "      <td>25.37</td>\n",
       "      <td>4.30</td>\n",
       "      <td>107.07</td>\n",
       "      <td>3682.67</td>\n",
       "      <td>522.40</td>\n",
       "      <td>294.05</td>\n",
       "      <td>1411.12</td>\n",
       "      <td>699.80</td>\n",
       "      <td>6092.45</td>\n",
       "      <td>2777.51</td>\n",
       "      <td>640.81</td>\n",
       "      <td>7.96</td>\n",
       "      <td>1</td>\n",
       "    </tr>\n",
       "    <tr>\n",
       "      <th>4</th>\n",
       "      <td>Delhi</td>\n",
       "      <td>India</td>\n",
       "      <td>4.91</td>\n",
       "      <td>22.11</td>\n",
       "      <td>4.30</td>\n",
       "      <td>1.77</td>\n",
       "      <td>0.73</td>\n",
       "      <td>0.85</td>\n",
       "      <td>1.02</td>\n",
       "      <td>3.81</td>\n",
       "      <td>5.71</td>\n",
       "      <td>0.36</td>\n",
       "      <td>9.83</td>\n",
       "      <td>1.54</td>\n",
       "      <td>2.49</td>\n",
       "      <td>4.30</td>\n",
       "      <td>0.49</td>\n",
       "      <td>11.67</td>\n",
       "      <td>0.22</td>\n",
       "      <td>1.24</td>\n",
       "      <td>10.561901</td>\n",
       "      <td>0.01</td>\n",
       "      <td>7.95</td>\n",
       "      <td>21.20</td>\n",
       "      <td>4.91</td>\n",
       "      <td>74.00</td>\n",
       "      <td>1964.24</td>\n",
       "      <td>229.84</td>\n",
       "      <td>135.31</td>\n",
       "      <td>601.02</td>\n",
       "      <td>329.15</td>\n",
       "      <td>2506.73</td>\n",
       "      <td>1036.74</td>\n",
       "      <td>586.46</td>\n",
       "      <td>8.06</td>\n",
       "      <td>1</td>\n",
       "    </tr>\n",
       "  </tbody>\n",
       "</table>\n",
       "</div>"
      ],
      "text/plain": [
       "        city      country  Meal_Inexpensive_Restaurant   \n",
       "0      Seoul  South Korea                         7.68  \\\n",
       "1   Shanghai        China                         5.69   \n",
       "2  Guangzhou        China                         4.13   \n",
       "3     Mumbai        India                         3.68   \n",
       "4      Delhi        India                         4.91   \n",
       "\n",
       "   Mealfor2_Midrange_Restaurant  McMeal_at_McDonalds  Cappuccino  Milk_1l   \n",
       "0                         53.78                 6.15        3.93     2.20  \\\n",
       "1                         39.86                 5.69        3.98     2.74   \n",
       "2                         28.47                 4.98        3.54     1.91   \n",
       "3                         18.42                 3.68        2.48     0.75   \n",
       "4                         22.11                 4.30        1.77     0.73   \n",
       "\n",
       "   Rice_1kg  Eggs_12uds  Chicken_Fillets_1kg  Beef_Round_1kg   \n",
       "0      3.53        4.04                10.58           41.61  \\\n",
       "1      1.22        2.22                 4.86           13.12   \n",
       "2      1.03        1.71                 3.77           11.75   \n",
       "3      0.83        0.95                 3.69            5.95   \n",
       "4      0.85        1.02                 3.81            5.71   \n",
       "\n",
       "   Water_1.5l_market  Wine_market  Domestic_Beer_0.5l_market   \n",
       "0               1.05        15.36                       2.12  \\\n",
       "1               0.64        14.24                       0.94   \n",
       "2               0.51        11.39                       0.95   \n",
       "3               0.35         9.83                       2.27   \n",
       "4               0.36         9.83                       1.54   \n",
       "\n",
       "   Imported_Beer_0.33l_market  Cigarettes_20_Pack_Marlboro   \n",
       "0                        2.36                         3.46  \\\n",
       "1                        1.97                         3.56   \n",
       "2                        2.26                         3.70   \n",
       "3                        3.61                         4.30   \n",
       "4                        2.49                         4.30   \n",
       "\n",
       "   One-way_Ticket_Local_Transport  Monthly_Pass_Regular_Price   \n",
       "0                            1.00                       42.25  \\\n",
       "1                            0.57                       28.47   \n",
       "2                            0.36                       28.47   \n",
       "3                            0.25                        4.91   \n",
       "4                            0.49                       11.67   \n",
       "\n",
       "   Taxi_1km_Normal_Tariff  Gasoline_1l      Basic  Prepaid_Mobile  Internet   \n",
       "0                    0.92         1.43  18.413460            0.16     22.48  \\\n",
       "1                    0.43         1.20  11.268036            0.03     17.07   \n",
       "2                    0.37         1.19  10.706906            0.02     16.66   \n",
       "3                    0.31         1.35   9.106963            0.01      9.33   \n",
       "4                    0.22         1.24  10.561901            0.01      7.95   \n",
       "\n",
       "   Gym_Monthly  Cinema_1Seat  Preschool_Monthly  Primary_School_Yearly   \n",
       "0        55.88          9.60             404.15               17902.55  \\\n",
       "1        63.49          8.54            1382.62               26379.45   \n",
       "2        34.17          8.54             555.18               24556.21   \n",
       "3        25.37          4.30             107.07                3682.67   \n",
       "4        21.20          4.91              74.00                1964.24   \n",
       "\n",
       "   Apt_1bed_inCentre  Apt_1bed_OutsideCentre  Apt_3beds_inCentre   \n",
       "0             742.54                  557.52             2669.12  \\\n",
       "1            1091.93                  569.88             2952.70   \n",
       "2             533.28                  317.45             1242.24   \n",
       "3             522.40                  294.05             1411.12   \n",
       "4             229.84                  135.31              601.02   \n",
       "\n",
       "   Apt_3beds_OutsideCentre  Price_per_Square_Meter_inCentre   \n",
       "0                  1731.08                         22067.70  \\\n",
       "1                  1561.59                         17746.11   \n",
       "2                   688.05                         12892.82   \n",
       "3                   699.80                          6092.45   \n",
       "4                   329.15                          2506.73   \n",
       "\n",
       "   Price_per_Square_Meter_OutsideCentre  Average_Monthly_Net_Salary   \n",
       "0                              10971.90                     2689.62  \\\n",
       "1                               9416.35                     1419.87   \n",
       "2                               5427.45                     1211.68   \n",
       "3                               2777.51                      640.81   \n",
       "4                               1036.74                      586.46   \n",
       "\n",
       "   Mortgage_Interest_Rate_%_Yearly_20_Years  data_quality  \n",
       "0                                      3.47             1  \n",
       "1                                      5.03             1  \n",
       "2                                      5.19             1  \n",
       "3                                      7.96             1  \n",
       "4                                      8.06             1  "
      ]
     },
     "execution_count": 10,
     "metadata": {},
     "output_type": "execute_result"
    }
   ],
   "source": [
    "df.head()"
   ]
  },
  {
   "attachments": {},
   "cell_type": "markdown",
   "metadata": {},
   "source": [
    "- Nuestra variable dependiente no puede normalizarse."
   ]
  },
  {
   "attachments": {},
   "cell_type": "markdown",
   "metadata": {},
   "source": [
    "2- Guardar en un csv el nuevo dataframe que habéis creado para seguir usándolo en los siguientes pair programmings"
   ]
  },
  {
   "cell_type": "code",
   "execution_count": 11,
   "metadata": {},
   "outputs": [],
   "source": [
    "df.to_csv('../archivos/cost_of_living_NOnormalizado.csv')"
   ]
  }
 ],
 "metadata": {
  "kernelspec": {
   "display_name": "base",
   "language": "python",
   "name": "python3"
  },
  "language_info": {
   "codemirror_mode": {
    "name": "ipython",
    "version": 3
   },
   "file_extension": ".py",
   "mimetype": "text/x-python",
   "name": "python",
   "nbconvert_exporter": "python",
   "pygments_lexer": "ipython3",
   "version": "3.9.7"
  },
  "orig_nbformat": 4
 },
 "nbformat": 4,
 "nbformat_minor": 2
}
